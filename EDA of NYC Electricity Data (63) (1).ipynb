{
 "cells": [
  {
   "cell_type": "markdown",
   "id": "bfaaa16f",
   "metadata": {
    "gradient": {
     "editing": false
    }
   },
   "source": [
    "# NYC Electricity time series prediction\n",
    "# Research Question\n",
    "\n",
    "# Algorithm\n",
    "\n",
    "Use simplex forecasting from Emperical Data Modelling to predict power levels.\n"
   ]
  },
  {
   "cell_type": "code",
   "execution_count": 1,
   "id": "2172901c",
   "metadata": {
    "gradient": {
     "editing": false
    }
   },
   "outputs": [],
   "source": [
    "#!pip install kedm plotly jupyter-dash"
   ]
  },
  {
   "cell_type": "code",
   "execution_count": 2,
   "id": "e86ca421",
   "metadata": {
    "gradient": {
     "editing": false
    }
   },
   "outputs": [],
   "source": [
    "import cudf"
   ]
  },
  {
   "cell_type": "code",
   "execution_count": 3,
   "id": "3f24413c",
   "metadata": {
    "gradient": {
     "editing": false
    }
   },
   "outputs": [],
   "source": [
    "df_forecast = cudf.read_csv('http://mis.nyiso.com/public/csv/isolf/20210725isolf.csv'); df_forecast\n",
    "df_forecast.to_csv('forecast.csv')"
   ]
  },
  {
   "cell_type": "code",
   "execution_count": 4,
   "id": "ea306dee",
   "metadata": {
    "gradient": {
     "editing": false
    }
   },
   "outputs": [],
   "source": [
    "df_actual = cudf.read_csv('http://mis.nyiso.com/public/csv/pal/20210720pal.csv')\n",
    "for i in range(21,26):\n",
    "    df_actual = df_actual.append(cudf.read_csv('http://mis.nyiso.com/public/csv/pal/202107'+ str(i) + 'pal.csv'))\n",
    "df_actual.to_csv('df_actual.csv')\n",
    "df_result = cudf.read_csv('http://mis.nyiso.com/public/csv/pal/20210726pal.csv')\n",
    "df_result.to_csv('df_result.csv')"
   ]
  },
  {
   "cell_type": "code",
   "execution_count": 5,
   "id": "29f47ecd",
   "metadata": {
    "gradient": {
     "editing": false
    }
   },
   "outputs": [],
   "source": [
    "from datetime import datetime\n",
    "df_nyc = df_actual[df_actual['Name']=='N.Y.C.']\n",
    "df_nyc_result = df_result[df_result['Name']=='N.Y.C.']\n",
    "df_nyc['Time Stamp'] =cudf.to_datetime(df_nyc['Time Stamp'])\n",
    "df_nyc_result['Time Stamp'] =cudf.to_datetime(df_nyc_result['Time Stamp'])\n",
    "nyc_timeseries = df_nyc[['Time Stamp', 'Load']]\n",
    "nyc_ts_result = df_nyc_result[['Time Stamp', 'Load']]"
   ]
  },
  {
   "cell_type": "markdown",
   "id": "a5d250f9",
   "metadata": {
    "gradient": {
     "editing": false
    }
   },
   "source": [
    "So now we got a data series for NYC. Let's run it through kEDM! \n",
    "\n",
    "Keichi Takahashi, Wassapon Watanakeesuntorn, Kohei Ichikawa, Joseph Park, Ryousei Takano, Jason Haga, George Sugihara, Gerald M. Pao, \"kEDM: A Performance-portable Implementation of Empirical Dynamical Modeling,\" Practice & Experience in Advanced Research Computing (PEARC 2021), Jul. 2021.\n",
    "\n",
    "First, what's the optimal embedding dimension?"
   ]
  },
  {
   "cell_type": "code",
   "execution_count": 6,
   "id": "f28352d3",
   "metadata": {
    "gradient": {
     "editing": false
    }
   },
   "outputs": [
    {
     "name": "stdout",
     "output_type": "stream",
     "text": [
      "CPU times: user 2 µs, sys: 1 µs, total: 3 µs\n",
      "Wall time: 7.15 µs\n"
     ]
    },
    {
     "data": {
      "text/plain": [
       "1"
      ]
     },
     "execution_count": 6,
     "metadata": {},
     "output_type": "execute_result"
    }
   ],
   "source": [
    "import kedm\n",
    "import numpy as np\n",
    "ts = (nyc_timeseries['Load']).to_array()\n",
    "ts_result = (nyc_ts_result['Load']).to_array()\n",
    "%time\n",
    "tau_num = 1\n",
    "pred_interval = len(ts)//4\n",
    "dim = kedm.edim(ts, tau=tau_num, E_max=50, Tp=pred_interval ); dim"
   ]
  },
  {
   "cell_type": "code",
   "execution_count": 7,
   "id": "599e974d",
   "metadata": {
    "gradient": {}
   },
   "outputs": [
    {
     "name": "stdout",
     "output_type": "stream",
     "text": [
      "CPU times: user 3 µs, sys: 2 µs, total: 5 µs\n",
      "Wall time: 7.87 µs\n",
      "0.7910515069961548 0.823871374130249\n"
     ]
    }
   ],
   "source": [
    "%time\n",
    "e = dim\n",
    "ts_lib = ts[0:len(ts)//2]\n",
    "ts_target = ts[len(ts)//2:-1]\n",
    "tdf = cudf.DataFrame()\n",
    "ordered_series = []\n",
    "yoffset = 100\n",
    "def update_df(e=e, ts_lib=ts_lib, ts_target=ts_target, pred_interval=pred_interval, tau_num=tau_num):\n",
    "    global ordered_series, tdf, ts_labels, yoffset\n",
    "    import time\n",
    "    import kedm\n",
    "    ts_simplex = kedm.simplex(library=ts_lib, target=ts_target, E = e, Tp = pred_interval, tau=tau_num) + yoffset\n",
    "    ts_simplex_r = kedm.simplex_eval(library=ts_lib, target=ts_target, E = e, Tp = pred_interval, tau=tau_num)\n",
    "\n",
    "    ts_smap = kedm.smap(library=ts_lib,target=ts_target,E = e, Tp=pred_interval, tau=tau_num ) + yoffset\n",
    "    \n",
    "    ts_smap_r = kedm.smap_eval(library=ts_lib,target=ts_target,E = e, Tp=pred_interval, tau=tau_num )\n",
    "\n",
    "    nyc_tstamps = nyc_timeseries['Time Stamp']\n",
    "    nyc_tstamps_res = nyc_ts_result['Time Stamp']\n",
    "    print(ts_simplex_r, ts_smap_r)\n",
    "    \n",
    "    timedelta = nyc_tstamps.iloc[2]- nyc_tstamps.iloc[1]\n",
    "    #\"static\" timewarping by adding an offset at item index as opposed to dynamic timewarping\n",
    "    max_len_pred = max(len(ts_simplex), len(ts_smap))\n",
    "    pred_tstamps = [nyc_tstamps.iloc[-1] + (timedelta * n) - (timedelta * ((max_len_pred-pred_interval))) for n in range(0,max_len_pred)]\n",
    "    ts_forecast = df_forecast['N.Y.C.'].to_array()\n",
    "    forecast_tstamps = df_forecast['Time Stamp'].to_array()\n",
    "    \n",
    "    tseries=[ts, ts_result, ts_simplex, ts_smap, ts_forecast ]\n",
    "    tstamps=[nyc_tstamps, nyc_tstamps_res, pred_tstamps, pred_tstamps, forecast_tstamps]\n",
    "    ts_labels=['Timeseries', 'Result', 'Simplex r:' + str(ts_simplex_r), 'Smap r:' + str(ts_smap_r), 'Forecast']\n",
    "    ordered_series = list(zip(tseries, tstamps))\n",
    "    max_len = max([ max(len(s[0]),len(s[1])) for s in ordered_series])\n",
    "    \n",
    "    for i, (s, stamp_r) in enumerate(ordered_series):\n",
    "        stamp = cudf.Series(cudf.to_datetime(stamp_r))\n",
    "        tdf['y' + str(i)] = np.append(s, [0] * (max_len-len(s)))\n",
    "        addl_ts = [nyc_tstamps.iloc[-1] + (timedelta * i) for i in range(0, (max_len-len(s)))]\n",
    "        stamp_np = [s for s in stamp.values_host]\n",
    "        tdf['x' + str(i)] = np.append(np.array(stamp_np, dtype='datetime64'),np.array(addl_ts, dtype='datetime64'))\n",
    "\n",
    "update_df()"
   ]
  },
  {
   "cell_type": "code",
   "execution_count": 8,
   "id": "2621afa5",
   "metadata": {
    "gradient": {}
   },
   "outputs": [],
   "source": [
    "#!pip install jupyter-dash tables plotly\n",
    "#!pip install dash dash-bootstrap-components dash-html-components matplotlib plotly"
   ]
  },
  {
   "cell_type": "code",
   "execution_count": 9,
   "id": "9c636caa",
   "metadata": {
    "gradient": {}
   },
   "outputs": [],
   "source": [
    "\n",
    "import json\n",
    "\n",
    "import cudf\n",
    "import cupy as cp\n",
    "import cupy\n",
    "import plotly.graph_objects as go\n",
    "\n",
    "import dash\n",
    "import dash_bootstrap_components as dbc\n",
    "import dash_core_components as dcc\n",
    "import dash_html_components as html\n",
    "from dash.dependencies import Input, Output, State\n",
    "\n",
    "from flask import request\n",
    "from jupyter_dash import JupyterDash\n",
    "from IPython.display import display, HTML"
   ]
  },
  {
   "cell_type": "code",
   "execution_count": 10,
   "id": "9766a25b",
   "metadata": {
    "gradient": {}
   },
   "outputs": [],
   "source": [
    "def plot_main_figure(gdf):\n",
    "    fig = go.Figure()\n",
    "    for i in range(0, len(list(ordered_series))):\n",
    "        si = str(i)\n",
    "        fig=fig.add_trace(\n",
    "            go.Scattergl({\n",
    "            'x': gdf['x' + str(i)].to_array(),\n",
    "            'y': gdf['y' + str(i)].to_array(),\n",
    "            'name': ts_labels[i],\n",
    "            'mode': 'markers',\n",
    "            'marker': {'size': 4}\n",
    "        }))\n",
    "    # fig.update_layout(showlegend=True, clickmode='event+select')\n",
    "    fig.update_layout(showlegend=True, clickmode='event', dragmode='select')\n",
    "    return fig"
   ]
  },
  {
   "cell_type": "code",
   "execution_count": 11,
   "id": "3e6a34ce",
   "metadata": {
    "gradient": {},
    "scrolled": false
   },
   "outputs": [
    {
     "data": {
      "text/html": [
       "<b style='color: red'>Please click on <a href='/proxy/8050/' target='_blank'>here</a> to open the dash</b>"
      ],
      "text/plain": [
       "<IPython.core.display.HTML object>"
      ]
     },
     "metadata": {},
     "output_type": "display_data"
    },
    {
     "data": {
      "text/html": [
       "\n",
       "        <iframe\n",
       "            width=\"100%\"\n",
       "            height=\"650\"\n",
       "            src=\"http://127.0.0.1:8050/proxy/8050/\"\n",
       "            frameborder=\"0\"\n",
       "            allowfullscreen\n",
       "        ></iframe>\n",
       "        "
      ],
      "text/plain": [
       "<IPython.lib.display.IFrame at 0x7f1bdd360050>"
      ]
     },
     "metadata": {},
     "output_type": "display_data"
    }
   ],
   "source": [
    "# Stylesheet for the application\n",
    "external_stylesheets = ['https://codepen.io/chriddyp/pen/bWLwgP.css']\n",
    "# Please change the proxy_port if the port is already in use.\n",
    "proxy_port = 8050\n",
    "\n",
    "# Define the application.\n",
    "# use this for when you are on more secured instances\n",
    "app = JupyterDash(__name__,\n",
    "                  external_stylesheets=external_stylesheets,\n",
    "                  requests_pathname_prefix='/proxy/' + str(proxy_port) + '/')\n",
    "\n",
    "# use this is for when you control all the ports\n",
    "#app = dash.Dash(__name__, external_stylesheets=external_stylesheets)\n",
    "\n",
    "# Styles tobe used\n",
    "styles = {\n",
    "    'pre': {\n",
    "        'border': 'thin lightgrey solid',\n",
    "        'overflowX': 'scroll'\n",
    "    }\n",
    "}\n",
    "\n",
    "# Create the scatter plot\n",
    "fig = plot_main_figure(tdf)\n",
    "\n",
    "#let's make your view!\n",
    "app.layout = html.Div(id='site_body', children=[\n",
    "        dcc.Graph(id='basic-interactions',figure=fig),\n",
    "        html.Div(className='row', children=[\n",
    "            html.Div([\n",
    "                  dcc.Slider(\n",
    "        id='dim-slider',\n",
    "        min=1,\n",
    "        max=200,\n",
    "        step=1,\n",
    "        value=e,\n",
    "    ),\n",
    "    html.Div(id='slider-output-container'),\n",
    "                  dcc.Slider(\n",
    "        id='tau-slider',\n",
    "        min=1,\n",
    "        max=100,\n",
    "        step=1,\n",
    "        value=tau_num,\n",
    "    ),\n",
    "    html.Div(id='tau-output-container'),\n",
    "                     dcc.Slider(\n",
    "        id='pt-slider',\n",
    "        min=1,\n",
    "        max=pred_interval,\n",
    "        step=1,\n",
    "        value=pred_interval,\n",
    "    ),\n",
    "    html.Div(id='pt-output-container'),\n",
    "                     dcc.Slider(\n",
    "        id='yoffset-slider',\n",
    "        min=-1000,\n",
    "        max=1000,\n",
    "        step=100,\n",
    "        value=yoffset),\n",
    "    html.Div(id='yoffset-output-container'),\n",
    "                dcc.Markdown(\"\"\"\n",
    "                    **Hover Data**\n",
    "\n",
    "                    Mouse over values in the graph.\n",
    "                \"\"\"),\n",
    "                html.Pre(id='hover-data', style=styles['pre'])\n",
    "            ], className='three columns'),\n",
    "\n",
    "\n",
    "            html.Div([\n",
    "                dcc.Markdown(\"\"\"\n",
    "                    **Click Data**\n",
    "\n",
    "                    Click on points in the graph.\n",
    "                \"\"\"),\n",
    "                html.Pre(id='click-data', style=styles['pre']),\n",
    "            ], className='three columns'),\n",
    "\n",
    "\n",
    "            html.Div([\n",
    "                dcc.Markdown(\"\"\"\n",
    "                    **Selection Data**\n",
    "\n",
    "                    Choose the lasso or rectangle tool in the graph's menu\n",
    "                    bar and then select points in the graph.\n",
    "\n",
    "                    Note that if `layout.clickmode = 'event+select'`, selection data also \n",
    "                    accumulates (or un-accumulates) selected data if you hold down the shift\n",
    "                    button while clicking.\n",
    "                \"\"\"),\n",
    "                html.Pre(id='selected-data', style=styles['pre']),\n",
    "            ], className='three columns'),\n",
    "\n",
    "            html.Div([\n",
    "                dcc.Markdown(\"\"\"\n",
    "                    **Zoom and Relayout Data**\n",
    "\n",
    "                    Click and drag on the graph to zoom or click on the zoom\n",
    "                    buttons in the graph's menu bar.\n",
    "                    Clicking on legend items will also fire\n",
    "                    this event.\n",
    "                \"\"\"),\n",
    "                html.Pre(id='relayout-data', style=styles['pre']),\n",
    "            ], className='three columns'),\n",
    "            html.Div([\n",
    "                html.Button('Shutdown Dash', id='bt_close', n_clicks=0), #tried using a button\n",
    "                html.Div(id='close')\n",
    "            ]),\n",
    "        ])\n",
    "])\n",
    "\n",
    "@app.callback(\n",
    "    Output('hover-data', 'children'),\n",
    "    [Input('basic-interactions', 'hoverData')])\n",
    "def display_hover_data(hoverData):\n",
    "    '''\n",
    "    Handles onHover event on data points in the scatter plot.\n",
    "    '''\n",
    "    return json.dumps(hoverData, indent=2)\n",
    "\n",
    "@app.callback(\n",
    "    dash.dependencies.Output('slider-output-container', 'children'),\n",
    "    [dash.dependencies.Input('dim-slider', 'value')])\n",
    "def update_output(value):\n",
    "    return 'The number of embedding dimensions has been set to: \"{}\"'.format(value)\n",
    "\n",
    "@app.callback(\n",
    "    dash.dependencies.Output('tau-output-container', 'children'),\n",
    "    [dash.dependencies.Input('tau-slider', 'value')])\n",
    "def tautput(value):\n",
    "    return 'The embedding offset (tau) has been set to: \"{}\"'.format(value)\n",
    "    \n",
    "@app.callback(\n",
    "    dash.dependencies.Output('pt-output-container', 'children'),\n",
    "    [dash.dependencies.Input('pt-slider', 'value')])\n",
    "def pt_update(value):\n",
    "    return 'The forecast interval has been set to: \"{}\"'.format(value)\n",
    "        \n",
    "@app.callback(\n",
    "    dash.dependencies.Output('yoffset-output-container', 'children'),\n",
    "    [dash.dependencies.Input('yoffset-slider', 'value')])\n",
    "def yoffset_update(value):\n",
    "    return 'Y values have been shifted by \"{}\"'.format(value)\n",
    "        \n",
    "@app.callback(\n",
    "    dash.dependencies.Output('basic-interactions', 'figure'),\n",
    "    [dash.dependencies.Input('dim-slider', 'value'), \n",
    "     dash.dependencies.Input('tau-slider', 'value'),\n",
    "     dash.dependencies.Input('pt-slider', 'value'),\n",
    "    dash.dependencies.Input('yoffset-slider', 'value')])\n",
    "def update_graph(dim, tau, pt, new_yoffset):\n",
    "    global e, tau_num, pred_interval, yoffset\n",
    "    e = int(dim)\n",
    "    tau_num = int(tau)\n",
    "    yoffset = int(new_yoffset)\n",
    "    pred_interval = pt\n",
    "    import time\n",
    "    time.sleep(2)\n",
    "    return plot_main_figure(tdf)\n",
    "\n",
    "@app.callback(\n",
    "    Output('click-data', 'children'),\n",
    "    [Input('basic-interactions', 'clickData')])\n",
    "def display_click_data(clickData):\n",
    "    '''\n",
    "    Handles onClick event on a data point in the scatter plot.\n",
    "    '''\n",
    "    return json.dumps(clickData, indent=2)\n",
    "\n",
    "@app.callback(\n",
    "    Output('selected-data', 'children'),\n",
    "    [Input('basic-interactions', 'selectedData')])\n",
    "def display_selected_data(selectedData):\n",
    "    '''\n",
    "    Handles onSelect event on scatter plot.\n",
    "    '''\n",
    "    return json.dumps(selectedData, indent=2)\n",
    "\n",
    "@app.callback(\n",
    "    Output('relayout-data', 'children'),\n",
    "    [Input('basic-interactions', 'relayoutData')])\n",
    "def display_relayout_data(relayoutData):\n",
    "    return json.dumps(relayoutData, indent=2)\n",
    "\n",
    "@app.callback(\n",
    "    Output(\"site_body\", \"children\"), \n",
    "    Input('bt_close', 'n_clicks'))\n",
    "def export_current_df(export_clicks): \n",
    "    '''\n",
    "    Handles a button's onClick event\n",
    "    '''\n",
    "    if not dash.callback_context.triggered:\n",
    "        raise dash.exceptions.PreventUpdate\n",
    "    func = request.environ.get('werkzeug.server.shutdown')\n",
    "    if func is None:\n",
    "        raise RuntimeError('Not running with the Werkzeug Server')\n",
    "    func()\n",
    "    return 'Closed'\n",
    "\n",
    "js = \"<b style='color: red'>Please click on <a href='/proxy/\" + str(proxy_port) + \"/' target='_blank'>here</a> to open the dash</b>\"\n",
    "display(HTML(js))\n",
    "\n",
    "app.run_server(mode=\"inline\")\n",
    "#app.run_server(debug=True, use_reloader=False, port=proxy_port)"
   ]
  },
  {
   "cell_type": "code",
   "execution_count": null,
   "id": "e95c224d",
   "metadata": {},
   "outputs": [
    {
     "name": "stdout",
     "output_type": "stream",
     "text": [
      "0.5050999522209167 0.92253577709198\n",
      "100\n",
      "0.06655915081501007 0.5622630715370178\n",
      "100\n"
     ]
    }
   ],
   "source": [
    "#poor man's message queue\n",
    "old_e = e\n",
    "old_tau_num = tau_num\n",
    "old_pred_interval=pred_interval\n",
    "old_yoffset = yoffset\n",
    "def update_loop():\n",
    "    global e, tau_num, pred_interval, old_yoffset, old_e, old_tau_num, old_pred_interval, old_yoffset\n",
    "    try:\n",
    "        if old_e != e or old_tau_num != tau_num or old_pred_interval != pred_interval or old_yoffset != yoffset:\n",
    "            old_e = e\n",
    "            old_tau_num = tau_num\n",
    "            old_pred_interval=pred_interval\n",
    "            old_yoffset = yoffset\n",
    "            update_df(e=e,tau_num=tau_num,pred_interval=pred_interval)\n",
    "            print(yoffset)\n",
    "            \n",
    "    except Exception as ex:\n",
    "        print('Something went wrong. ¯\\_(ツ)_/¯')\n",
    "        print(ex)\n",
    "        pass\n",
    "    finally:\n",
    "        import time\n",
    "        time.sleep(1)\n",
    "        update_loop()\n",
    "update_loop()"
   ]
  }
 ],
 "metadata": {
  "kernelspec": {
   "display_name": "Python 3",
   "language": "python",
   "name": "python3"
  },
  "language_info": {
   "codemirror_mode": {
    "name": "ipython",
    "version": 3
   },
   "file_extension": ".py",
   "mimetype": "text/x-python",
   "name": "python",
   "nbconvert_exporter": "python",
   "pygments_lexer": "ipython3",
   "version": "3.7.10"
  }
 },
 "nbformat": 4,
 "nbformat_minor": 5
}
