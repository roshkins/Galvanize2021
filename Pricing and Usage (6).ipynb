{
 "cells": [
  {
   "cell_type": "markdown",
   "id": "657a189c",
   "metadata": {},
   "source": [
    "# Does pricing affect usage?\n",
    "We've all wondered if people really do use less energy when it costs more. Seems like it should. Let's test it just in case."
   ]
  },
  {
   "cell_type": "code",
   "execution_count": 1,
   "id": "f9791d28",
   "metadata": {},
   "outputs": [
    {
     "name": "stdout",
     "output_type": "stream",
     "text": [
      "Requirement already satisfied: kedm in /opt/conda/envs/rapids/lib/python3.7/site-packages (0.3.0)\n",
      "Requirement already satisfied: numpy>=1.7.0 in /opt/conda/envs/rapids/lib/python3.7/site-packages (from kedm) (1.20.3)\n",
      "\u001b[33mWARNING: Running pip as root will break packages and permissions. You should install packages reliably by using venv: https://pip.pypa.io/warnings/venv\u001b[0m\n"
     ]
    }
   ],
   "source": [
    "!pip install kedm"
   ]
  },
  {
   "cell_type": "code",
   "execution_count": 2,
   "id": "9c40e7eb",
   "metadata": {
    "gradient": {},
    "scrolled": true
   },
   "outputs": [
    {
     "data": {
      "text/html": [
       "<div>\n",
       "<style scoped>\n",
       "    .dataframe tbody tr th:only-of-type {\n",
       "        vertical-align: middle;\n",
       "    }\n",
       "\n",
       "    .dataframe tbody tr th {\n",
       "        vertical-align: top;\n",
       "    }\n",
       "\n",
       "    .dataframe thead th {\n",
       "        text-align: right;\n",
       "    }\n",
       "</style>\n",
       "<table border=\"1\" class=\"dataframe\">\n",
       "  <thead>\n",
       "    <tr style=\"text-align: right;\">\n",
       "      <th></th>\n",
       "      <th>Time Stamp</th>\n",
       "      <th>Name</th>\n",
       "      <th>PTID_pricing</th>\n",
       "      <th>LBMP ($/MWHr)</th>\n",
       "      <th>Marginal Cost Losses ($/MWHr)</th>\n",
       "      <th>Marginal Cost Congestion ($/MWHr)</th>\n",
       "      <th>Time Zone</th>\n",
       "      <th>PTID_load</th>\n",
       "      <th>Load</th>\n",
       "    </tr>\n",
       "  </thead>\n",
       "  <tbody>\n",
       "    <tr>\n",
       "      <th>0</th>\n",
       "      <td>07/30/2021 09:00:00</td>\n",
       "      <td>HUD VL</td>\n",
       "      <td>61758</td>\n",
       "      <td>30.25</td>\n",
       "      <td>2.97</td>\n",
       "      <td>0.00</td>\n",
       "      <td>EDT</td>\n",
       "      <td>61758</td>\n",
       "      <td>1085.8429</td>\n",
       "    </tr>\n",
       "    <tr>\n",
       "      <th>1</th>\n",
       "      <td>07/30/2021 09:05:00</td>\n",
       "      <td>LONGIL</td>\n",
       "      <td>61762</td>\n",
       "      <td>53.63</td>\n",
       "      <td>1.74</td>\n",
       "      <td>-39.49</td>\n",
       "      <td>EDT</td>\n",
       "      <td>61762</td>\n",
       "      <td>2781.0193</td>\n",
       "    </tr>\n",
       "    <tr>\n",
       "      <th>2</th>\n",
       "      <td>07/30/2021 09:00:00</td>\n",
       "      <td>WEST</td>\n",
       "      <td>61752</td>\n",
       "      <td>48.84</td>\n",
       "      <td>0.33</td>\n",
       "      <td>-21.24</td>\n",
       "      <td>EDT</td>\n",
       "      <td>61752</td>\n",
       "      <td>1790.5573</td>\n",
       "    </tr>\n",
       "    <tr>\n",
       "      <th>3</th>\n",
       "      <td>07/30/2021 09:00:00</td>\n",
       "      <td>LONGIL</td>\n",
       "      <td>61762</td>\n",
       "      <td>45.78</td>\n",
       "      <td>3.74</td>\n",
       "      <td>-14.77</td>\n",
       "      <td>EDT</td>\n",
       "      <td>61762</td>\n",
       "      <td>2770.2869</td>\n",
       "    </tr>\n",
       "    <tr>\n",
       "      <th>4</th>\n",
       "      <td>07/30/2021 09:05:00</td>\n",
       "      <td>MHK VL</td>\n",
       "      <td>61756</td>\n",
       "      <td>15.18</td>\n",
       "      <td>0.64</td>\n",
       "      <td>-2.14</td>\n",
       "      <td>EDT</td>\n",
       "      <td>61756</td>\n",
       "      <td>897.8669</td>\n",
       "    </tr>\n",
       "    <tr>\n",
       "      <th>...</th>\n",
       "      <td>...</td>\n",
       "      <td>...</td>\n",
       "      <td>...</td>\n",
       "      <td>...</td>\n",
       "      <td>...</td>\n",
       "      <td>...</td>\n",
       "      <td>...</td>\n",
       "      <td>...</td>\n",
       "      <td>...</td>\n",
       "    </tr>\n",
       "    <tr>\n",
       "      <th>2173</th>\n",
       "      <td>07/30/2021 10:25:00</td>\n",
       "      <td>GENESE</td>\n",
       "      <td>61753</td>\n",
       "      <td>20.64</td>\n",
       "      <td>-0.06</td>\n",
       "      <td>-1.00</td>\n",
       "      <td>EDT</td>\n",
       "      <td>61753</td>\n",
       "      <td>1153.6170</td>\n",
       "    </tr>\n",
       "    <tr>\n",
       "      <th>2174</th>\n",
       "      <td>07/30/2021 10:30:00</td>\n",
       "      <td>HUD VL</td>\n",
       "      <td>61758</td>\n",
       "      <td>38.41</td>\n",
       "      <td>3.93</td>\n",
       "      <td>0.00</td>\n",
       "      <td>EDT</td>\n",
       "      <td>61758</td>\n",
       "      <td>1162.5972</td>\n",
       "    </tr>\n",
       "    <tr>\n",
       "      <th>2175</th>\n",
       "      <td>07/30/2021 10:25:00</td>\n",
       "      <td>HUD VL</td>\n",
       "      <td>61758</td>\n",
       "      <td>29.31</td>\n",
       "      <td>2.28</td>\n",
       "      <td>-7.32</td>\n",
       "      <td>EDT</td>\n",
       "      <td>61758</td>\n",
       "      <td>1172.3151</td>\n",
       "    </tr>\n",
       "    <tr>\n",
       "      <th>2176</th>\n",
       "      <td>07/30/2021 10:30:00</td>\n",
       "      <td>LONGIL</td>\n",
       "      <td>61762</td>\n",
       "      <td>45.87</td>\n",
       "      <td>5.21</td>\n",
       "      <td>-6.18</td>\n",
       "      <td>EDT</td>\n",
       "      <td>61762</td>\n",
       "      <td>2996.2656</td>\n",
       "    </tr>\n",
       "    <tr>\n",
       "      <th>2177</th>\n",
       "      <td>07/30/2021 10:30:00</td>\n",
       "      <td>WEST</td>\n",
       "      <td>61752</td>\n",
       "      <td>66.60</td>\n",
       "      <td>0.00</td>\n",
       "      <td>-32.12</td>\n",
       "      <td>EDT</td>\n",
       "      <td>61752</td>\n",
       "      <td>1820.5123</td>\n",
       "    </tr>\n",
       "  </tbody>\n",
       "</table>\n",
       "<p>2178 rows × 9 columns</p>\n",
       "</div>"
      ],
      "text/plain": [
       "               Time Stamp    Name  PTID_pricing  LBMP ($/MWHr)  \\\n",
       "0     07/30/2021 09:00:00  HUD VL         61758          30.25   \n",
       "1     07/30/2021 09:05:00  LONGIL         61762          53.63   \n",
       "2     07/30/2021 09:00:00    WEST         61752          48.84   \n",
       "3     07/30/2021 09:00:00  LONGIL         61762          45.78   \n",
       "4     07/30/2021 09:05:00  MHK VL         61756          15.18   \n",
       "...                   ...     ...           ...            ...   \n",
       "2173  07/30/2021 10:25:00  GENESE         61753          20.64   \n",
       "2174  07/30/2021 10:30:00  HUD VL         61758          38.41   \n",
       "2175  07/30/2021 10:25:00  HUD VL         61758          29.31   \n",
       "2176  07/30/2021 10:30:00  LONGIL         61762          45.87   \n",
       "2177  07/30/2021 10:30:00    WEST         61752          66.60   \n",
       "\n",
       "      Marginal Cost Losses ($/MWHr)  Marginal Cost Congestion ($/MWHr)  \\\n",
       "0                              2.97                               0.00   \n",
       "1                              1.74                             -39.49   \n",
       "2                              0.33                             -21.24   \n",
       "3                              3.74                             -14.77   \n",
       "4                              0.64                              -2.14   \n",
       "...                             ...                                ...   \n",
       "2173                          -0.06                              -1.00   \n",
       "2174                           3.93                               0.00   \n",
       "2175                           2.28                              -7.32   \n",
       "2176                           5.21                              -6.18   \n",
       "2177                           0.00                             -32.12   \n",
       "\n",
       "     Time Zone  PTID_load       Load  \n",
       "0          EDT      61758  1085.8429  \n",
       "1          EDT      61762  2781.0193  \n",
       "2          EDT      61752  1790.5573  \n",
       "3          EDT      61762  2770.2869  \n",
       "4          EDT      61756   897.8669  \n",
       "...        ...        ...        ...  \n",
       "2173       EDT      61753  1153.6170  \n",
       "2174       EDT      61758  1162.5972  \n",
       "2175       EDT      61758  1172.3151  \n",
       "2176       EDT      61762  2996.2656  \n",
       "2177       EDT      61752  1820.5123  \n",
       "\n",
       "[2178 rows x 9 columns]"
      ]
     },
     "execution_count": 2,
     "metadata": {},
     "output_type": "execute_result"
    }
   ],
   "source": [
    "import kedm\n",
    "import cudf\n",
    "# from: https://www.nyiso.com/load-data\n",
    "pricing_df = cudf.read_csv('http://mis.nyiso.com/public/csv/realtime/20210730realtime_zone.csv')\n",
    "load_df = cudf.read_csv('http://mis.nyiso.com/public/csv/pal/20210730pal.csv')\n",
    "pricing_df.to_csv('pricing.csv')\n",
    "load_df.to_csv('load.csv')\n",
    "\n",
    "pricing_and_load_df = pricing_df.merge(load_df, on=['Time Stamp', 'Name'], suffixes=['_pricing', '_load'])\n",
    "pricing_and_load_df"
   ]
  },
  {
   "cell_type": "markdown",
   "id": "9420ee2a",
   "metadata": {},
   "source": [
    "Separate time series and turn into 2d table."
   ]
  },
  {
   "cell_type": "code",
   "execution_count": 34,
   "id": "4787e0f0",
   "metadata": {
    "gradient": {},
    "scrolled": true
   },
   "outputs": [
    {
     "name": "stdout",
     "output_type": "stream",
     "text": [
      "198\n"
     ]
    },
    {
     "data": {
      "text/plain": [
       "array([[44.29, 29.52, 35.22, ..., 31.93, 38.35, 30.27],\n",
       "       [16.98, 28.45, 32.45, ..., 31.43, 35.93, 21.32],\n",
       "       [38.66, 30.65, 35.96, ..., 34.35, 38.93, 29.67],\n",
       "       ...,\n",
       "       [ 0.  ,  0.  ,  0.  , ...,  0.  ,  0.  ,  0.  ],\n",
       "       [ 0.  ,  0.  ,  0.  , ...,  0.  ,  0.  ,  0.  ],\n",
       "       [ 0.  ,  0.  ,  0.  , ...,  0.  ,  0.  ,  0.  ]])"
      ]
     },
     "execution_count": 34,
     "metadata": {},
     "output_type": "execute_result"
    }
   ],
   "source": [
    "import cupy as cp\n",
    "unique_names = pricing_and_load_df['Name'].unique()\n",
    "selected_column_names = ['LBMP ($/MWHr)','Load']\n",
    "\n",
    "input_timeseries = None\n",
    "for i, name in enumerate(unique_names.to_array()):\n",
    "    named_df = pricing_and_load_df[pricing_and_load_df['Name']==name]\n",
    "    \n",
    "    if input_timeseries is None:\n",
    "        print(len(named_df))\n",
    "        input_timeseries = cp.ndarray(((len(unique_names)) * (len(selected_column_names)),len(named_df)), dtype=cp.float64)\n",
    "        input_timeseries.fill(0)\n",
    "    col_df = named_df[selected_column_names]\n",
    "    for j, col in enumerate(selected_column_names):\n",
    "        col_ts = col_df[str(col)].to_gpu_array()\n",
    "        col_ts = cp.resize(col_ts,len(named_df))\n",
    "        input_timeseries[i + j] =col_ts\n",
    "input_timeseries.get()"
   ]
  },
  {
   "cell_type": "code",
   "execution_count": 219,
   "id": "9624f28c",
   "metadata": {
    "gradient": {},
    "scrolled": true
   },
   "outputs": [
    {
     "name": "stderr",
     "output_type": "stream",
     "text": [
      "/opt/conda/envs/rapids/lib/python3.7/site-packages/ipykernel_launcher.py:15: FutureWarning: Using a non-tuple sequence for multidimensional indexing is deprecated; use `arr[tuple(seq)]` instead of `arr[seq]`. In the future this will be interpreted as an array index, `arr[np.array(seq)]`, which will result either in an error or a different result.\n",
      "  from ipykernel import kernelapp as app\n"
     ]
    },
    {
     "name": "stdout",
     "output_type": "stream",
     "text": [
      "Index(['level_0', 'level_1', 0], dtype='object')\n"
     ]
    },
    {
     "data": {
      "text/html": [
       "\n",
       "            <iframe id=\"6c39b9ba-a5f5-4d21-a8c5-8388c21fca58\" src=\"https://hub.graphistry.com/graph/graph.html?dataset=58d970b4397540b29a0d3c54a915d8ac&type=arrow&viztoken=13d7cffa-eddb-4547-b166-d5cc431f0ec6&usertag=862946c1-pygraphistry-0.19.4&splashAfter=1627684704&info=true\"\n",
       "                    allowfullscreen=\"true\" webkitallowfullscreen=\"true\" mozallowfullscreen=\"true\"\n",
       "                    oallowfullscreen=\"true\" msallowfullscreen=\"true\"\n",
       "                    style=\"width:100%; height:500px; border: 1px solid #DDD; overflow: hidden\">\n",
       "            </iframe>\n",
       "        \n",
       "            <script>\n",
       "                try {\n",
       "                  $(\"#6c39b9ba-a5f5-4d21-a8c5-8388c21fca58\").bind('mousewheel', function(e) { e.preventDefault(); });\n",
       "                } catch (e) { console.error('exn catching scroll', e); }\n",
       "            </script>\n",
       "        "
      ],
      "text/plain": [
       "<IPython.core.display.HTML object>"
      ]
     },
     "execution_count": 219,
     "metadata": {},
     "output_type": "execute_result"
    }
   ],
   "source": [
    "import numpy as np\n",
    "\n",
    "np_input = np.array(input_timeseries.get(),dtype=np.float32)[:12,:]\n",
    "results = kedm.xmap(np.array(np_input.transpose()),[ kedm.edim(n) for n in np_input])\n",
    "result_df = cudf.DataFrame()\n",
    "for i, name in enumerate(unique_names.to_array()):\n",
    "    if i*2+1 < len(results):\n",
    "        result_df[str(name) + \"_price\"] = results[(i)*2]\n",
    "        result_df[str(name) + \"_load\"] = results[(i)*2+1]\n",
    "result_df.index=result_df.columns\n",
    "import graphistry\n",
    "graphistry.register(api=3, protocol=\"https\", server=\"hub.graphistry.com\", username=\"roshkins\", password=\"Emptier6-Lard-Nativity-Mummy\")\n",
    "import pandas as pd\n",
    "causal_graph = result_df.to_pandas()\n",
    "causal_graph.values[[np.arange(len(causal_graph))]*2] = np.nan\n",
    "causal_graph = causal_graph.stack().reset_index()\n",
    "print(causal_graph.columns)\n",
    "filtered_df = causal_graph[causal_graph[causal_graph.columns[2]] > 0.01]\n",
    "graphistry.edges(filtered_df,'level_0','level_1').encode_edge_color('0', palette=['blue', 'red', 'yellow'], as_continuous=True).plot(memoize=False)\n"
   ]
  },
  {
   "cell_type": "code",
   "execution_count": 142,
   "id": "a806b893",
   "metadata": {},
   "outputs": [
    {
     "name": "stdout",
     "output_type": "stream",
     "text": [
      "Collecting graphistry\n",
      "  Downloading graphistry-0.19.4-py3-none-any.whl (85 kB)\n",
      "\u001b[K     |████████████████████████████████| 85 kB 6.2 MB/s  eta 0:00:01\n",
      "\u001b[?25hRequirement already satisfied: numpy in /opt/conda/envs/rapids/lib/python3.7/site-packages (from graphistry) (1.20.3)\n",
      "Requirement already satisfied: protobuf>=2.6.0 in /opt/conda/envs/rapids/lib/python3.7/site-packages (from graphistry) (3.16.0)\n",
      "Requirement already satisfied: pyarrow>=0.15.0 in /opt/conda/envs/rapids/lib/python3.7/site-packages (from graphistry) (1.0.1)\n",
      "Requirement already satisfied: requests in /opt/conda/envs/rapids/lib/python3.7/site-packages (from graphistry) (2.25.1)\n",
      "Requirement already satisfied: pandas>=0.17.0 in /opt/conda/envs/rapids/lib/python3.7/site-packages (from graphistry) (1.2.4)\n",
      "Requirement already satisfied: python-dateutil>=2.7.3 in /opt/conda/envs/rapids/lib/python3.7/site-packages (from pandas>=0.17.0->graphistry) (2.8.1)\n",
      "Requirement already satisfied: pytz>=2017.3 in /opt/conda/envs/rapids/lib/python3.7/site-packages (from pandas>=0.17.0->graphistry) (2021.1)\n",
      "Requirement already satisfied: six>=1.9 in /opt/conda/envs/rapids/lib/python3.7/site-packages (from protobuf>=2.6.0->graphistry) (1.16.0)\n",
      "Requirement already satisfied: idna<3,>=2.5 in /opt/conda/envs/rapids/lib/python3.7/site-packages (from requests->graphistry) (2.10)\n",
      "Requirement already satisfied: chardet<5,>=3.0.2 in /opt/conda/envs/rapids/lib/python3.7/site-packages (from requests->graphistry) (4.0.0)\n",
      "Requirement already satisfied: urllib3<1.27,>=1.21.1 in /opt/conda/envs/rapids/lib/python3.7/site-packages (from requests->graphistry) (1.26.5)\n",
      "Requirement already satisfied: certifi>=2017.4.17 in /opt/conda/envs/rapids/lib/python3.7/site-packages (from requests->graphistry) (2021.5.30)\n",
      "Installing collected packages: graphistry\n",
      "Successfully installed graphistry-0.19.4\n",
      "\u001b[33mWARNING: Running pip as root will break packages and permissions. You should install packages reliably by using venv: https://pip.pypa.io/warnings/venv\u001b[0m\n"
     ]
    }
   ],
   "source": [
    "#!pip install graphistry"
   ]
  }
 ],
 "metadata": {
  "kernelspec": {
   "display_name": "Python 3",
   "language": "python",
   "name": "python3"
  },
  "language_info": {
   "codemirror_mode": {
    "name": "ipython",
    "version": 3
   },
   "file_extension": ".py",
   "mimetype": "text/x-python",
   "name": "python",
   "nbconvert_exporter": "python",
   "pygments_lexer": "ipython3",
   "version": "3.7.10"
  }
 },
 "nbformat": 4,
 "nbformat_minor": 5
}
